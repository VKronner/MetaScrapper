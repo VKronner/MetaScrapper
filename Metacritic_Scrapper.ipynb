{
  "cells": [
    {
      "cell_type": "code",
      "execution_count": null,
      "metadata": {
        "id": "RDyKPx5p0zkL"
      },
      "outputs": [],
      "source": [
        "### PROGRAMA DE SCRAPPING DE INFORMAÇÕES DO METACRITIC VOLTADO PARA JOGOS\n",
        "### DEVERA PEGAR O NOME DO JOGO, SUA NOTA MEDIA DA CRITICA E DOS USUARIOS\n",
        "### DATA DE LANÇAMENTO DO JOGO. E ORGANIZA-LOS EM ORDEM DECRESCENTE."
      ]
    },
    {
      "cell_type": "code",
      "execution_count": null,
      "metadata": {
        "id": "pFcHgUQk1NlM"
      },
      "outputs": [],
      "source": [
        "### CRIANDO POR: VICTOR KRONNER\n",
        "### DATA DE CRIAÇÃO: 04/03/2022"
      ]
    },
    {
      "cell_type": "code",
      "execution_count": null,
      "metadata": {
        "id": "Eg86pR5014gd"
      },
      "outputs": [],
      "source": [
        "### URL: https://www.metacritic.com/browse/games/score/metascore/all/all/filtered"
      ]
    },
    {
      "cell_type": "code",
      "source": [
        "### FOI UTILIZADO FIREBASE PARA ENVIAR OS DADOS PARA UM BANCO DE DADOS.\n",
        "### o CODIGO NÃO CONSTA NESTA VERSÃO DEVIDO A ESTES DADOS JA ESTAREM NO\n",
        "### BANCO SEM NECESSIDADE DE SE REPETIR. SERÁ MANTIDO COMO COMENTADO NO\n",
        "### CODIGO PARA FUTURA REFERENCIA."
      ],
      "metadata": {
        "id": "jT0M1vvz7k1l"
      },
      "execution_count": null,
      "outputs": []
    },
    {
      "cell_type": "code",
      "execution_count": 41,
      "metadata": {
        "id": "cF3dFD2c1_pC"
      },
      "outputs": [],
      "source": [
        "import re\n",
        "import requests\n",
        "import pandas as pd\n",
        "import firebase_admin\n",
        "#from firebase_admin import db\n",
        "#from firebase_admin import credentials\n",
        "from bs4 import BeautifulSoup"
      ]
    },
    {
      "cell_type": "code",
      "execution_count": 42,
      "metadata": {
        "id": "bm6YCK4kPrH5"
      },
      "outputs": [],
      "source": [
        "page_counter = 0\n",
        "\n",
        "URL = \"https://www.metacritic.com/browse/games/score/metascore/all/all/filtered/?page=\"\n",
        "\n",
        "df = pd.DataFrame\n",
        "\n",
        "my_data = {}\n",
        "\n",
        "thisHeaders = {'User-Agent': 'Chrome/39.0.2171.95'}\n",
        "\n",
        "lst_names = []\n",
        "lst_plataform = []\n",
        "lst_release = []\n",
        "lst_meta_score = []\n",
        "lst_user_score = []\n",
        "\n",
        "plataform = []\n",
        "games = []\n",
        "releases = []\n",
        "meta_scores = []\n",
        "user_scores = []"
      ]
    },
    {
      "cell_type": "code",
      "execution_count": 43,
      "metadata": {
        "id": "StK8khbptmvt",
        "outputId": "41be7224-9f7f-4964-e0d0-1665b5c031fb",
        "colab": {
          "base_uri": "https://localhost:8080/",
          "height": 36
        }
      },
      "outputs": [
        {
          "output_type": "execute_result",
          "data": {
            "text/plain": [
              "\"\\ncred = credentials.Certificate('firebaseToken.json')\\n\\nfirebase_admin.initialize_app(cred,{\\n    'databaseURL':'https://scrappermetacritic-default-rtdb.firebaseio.com/'\\n})\\n\""
            ],
            "application/vnd.google.colaboratory.intrinsic+json": {
              "type": "string"
            }
          },
          "metadata": {},
          "execution_count": 43
        }
      ],
      "source": [
        "\"\"\"\n",
        "cred = credentials.Certificate('firebaseToken.json')\n",
        "\n",
        "firebase_admin.initialize_app(cred,{\n",
        "    'databaseURL':'https://scrappermetacritic-default-rtdb.firebaseio.com/'\n",
        "})\n",
        "\"\"\""
      ]
    },
    {
      "cell_type": "code",
      "execution_count": 44,
      "metadata": {
        "id": "LO5y2TJ-BHJu"
      },
      "outputs": [],
      "source": [
        "def URL_Request(myURL, MyPage_counter):\n",
        "  \n",
        "  myFinalURL = \"{0}{1}\".format(URL,MyPage_counter)  \n",
        "  return myFinalURL"
      ]
    },
    {
      "cell_type": "code",
      "execution_count": 45,
      "metadata": {
        "id": "5koyV4ROHqF1"
      },
      "outputs": [],
      "source": [
        "def Get_Game_Names(soup):\n",
        "  \n",
        "  for table in soup.find_all(\"table\"):\n",
        "    for game in table.find_all(\"h3\"):\n",
        "      games.append(game.text)\n",
        "  return games"
      ]
    },
    {
      "cell_type": "code",
      "execution_count": 46,
      "metadata": {
        "id": "WwYXTOZ_PnMS"
      },
      "outputs": [],
      "source": [
        "def Get_Plataform_Game(soup):\n",
        "  \n",
        "  for table in soup.find_all(\"td\"):\n",
        "    for info_data in table.find_all(\"div\", {\"class\": \"clamp-details\"}):\n",
        "      for data in info_data.find_all(\"span\", {\"class\": \"data\"}):\n",
        "        aux = data.text\n",
        "        aux = re.sub(r\"\\s+\",\"\",aux)\n",
        "        plataform.append(aux)\n",
        "  return plataform"
      ]
    },
    {
      "cell_type": "code",
      "execution_count": 47,
      "metadata": {
        "id": "FRyevNr3LUhe"
      },
      "outputs": [],
      "source": [
        "def Get_Meta_Score(soup):\n",
        "\n",
        "  for table in soup.find_all(\"table\"):\n",
        "    for nota_info in table.find_all(\"div\", {\"class\": \"browse-score-clamp\"}):\n",
        "      for nota_meta in nota_info.find_all(\"div\", {\"metascore_w large game positive\", \"metascore_w large game mixed\", \"metascore_w large game negative\", \"metascore_w large game tbd\"}):\n",
        "          meta_scores.append(nota_meta.text)\n",
        "  return meta_scores"
      ]
    },
    {
      "cell_type": "code",
      "execution_count": 48,
      "metadata": {
        "id": "2K-hWWDaJn_8"
      },
      "outputs": [],
      "source": [
        "def Get_User_Score(soup):\n",
        "\n",
        "  for table in soup.find_all(\"table\"):\n",
        "    for nota_info in table.find_all(\"div\", {\"class\": \"browse-score-clamp\"}):\n",
        "      for nota_user in nota_info.find_all(\"div\", {\"metascore_w user large game positive\", \"metascore_w user large game mixed\", \"metascore_w user large game negative\", \"metascore_w user large game tbd\"}):\n",
        "          user_scores.append(nota_user.text)\n",
        "  return user_scores"
      ]
    },
    {
      "cell_type": "code",
      "execution_count": 49,
      "metadata": {
        "id": "k4SDSMsjTDIG"
      },
      "outputs": [],
      "source": [
        "def Get_Data_From_Game(soup):\n",
        "  \n",
        "  for table in soup.find_all(\"td\"):\n",
        "    for info_data in table.find_all(\"div\", {\"class\": \"clamp-details\"}):\n",
        "      for data in info_data.find_all(\"span\", {\"class\": \"\"}):\n",
        "        releases.append(re.split(\"\\n\", data.text))\n",
        "  return releases"
      ]
    },
    {
      "cell_type": "code",
      "execution_count": 50,
      "metadata": {
        "id": "jW6MoAoM15EM"
      },
      "outputs": [],
      "source": [
        "def Start_Scrapping(myURL, myHeaders):\n",
        "\n",
        "  conteudo_html = requests.get(myURL, headers = myHeaders).text\n",
        "  soup = BeautifulSoup(conteudo_html, \"lxml\")\n",
        "\n",
        "  global lst_names\n",
        "  global lst_plataform\n",
        "  global lst_meta_score\n",
        "  global lst_user_score\n",
        "  global lst_release\n",
        "\n",
        "  print(soup.title.text)\n",
        "\n",
        "  lst_names = Get_Game_Names(soup)\n",
        "  lst_plataform = Get_Plataform_Game(soup)\n",
        "  lst_meta_score = Get_Meta_Score(soup)\n",
        "  lst_user_score = Get_User_Score(soup)\n",
        "  lst_release = Get_Data_From_Game(soup)\n",
        "  return"
      ]
    },
    {
      "cell_type": "code",
      "execution_count": 51,
      "metadata": {
        "id": "N58RfXye9Isq"
      },
      "outputs": [],
      "source": [
        "### CREATE A DATA STRUCTURE IN A DATAFRAME TO USE IN PANDAS\n",
        "\n",
        "def CreatePandaStructure(myGameName, myGamePlataform, myMetaScore, myUserScore, myGameData):\n",
        "  data = {\n",
        "          'Name': myGameName,\n",
        "          'Plataform': myGamePlataform,\n",
        "          'Meta Score': myMetaScore,\n",
        "          'User Score': myUserScore,\n",
        "          'Release': myGameData\n",
        "          }\n",
        "  return data"
      ]
    },
    {
      "cell_type": "code",
      "execution_count": null,
      "metadata": {
        "id": "QcQptMME2cBA"
      },
      "outputs": [],
      "source": [
        "### PUSH ALL DATA FROM SCRAPPER TO DATABASE FIREBASE\n",
        "\n",
        "\"\"\"\n",
        "def PushToBD(nomes, plataforrmas, datas, notasMeta, notasUser):\n",
        "    \n",
        "    ref = db.reference('/Jogos/')\n",
        "    for each in range(len(nomes)):\n",
        "        eachGame = \"game{0}\".format(each)        \n",
        "        ref.push({\n",
        "          'Game_{0}'.format(each + 1): {\n",
        "              'lancamento':'{0}'.format(datas[each]),\n",
        "              'nome':'{0}'.format(nomes[each]),\n",
        "              'nota_meta':'{0}'.format(notasMeta[each]),\n",
        "              'nota_publico':'{0}'.format(notasUser[each]),\n",
        "              'plataforma':'{0}'.format(plataforrmas[each])\n",
        "          }  \n",
        "        })\n",
        "    return\n",
        "\"\"\""
      ]
    },
    {
      "cell_type": "code",
      "execution_count": 53,
      "metadata": {
        "id": "zIc2DALg_E7N"
      },
      "outputs": [],
      "source": [
        "def __main__():\n",
        "  exit = False\n",
        "  html_content = None\n",
        "\n",
        "  global page_counter\n",
        "\n",
        "  page_counter = 0\n",
        "  page_limiter = 10\n",
        "\n",
        "  while exit != True:\n",
        "\n",
        "      html_content = requests.get(URL_Request(URL,page_counter), headers = thisHeaders)\n",
        "\n",
        "      if html_content.status_code == 200:\n",
        "        # Code 200 MEANS THAT THE TRANSACTION WAS SUCCESSFUL\n",
        "        html_content = requests.get(URL_Request(URL,page_counter), headers = thisHeaders)\n",
        "        Start_Scrapping(URL_Request(URL,page_counter), thisHeaders)\n",
        "      else:\n",
        "        # PRINT DENIED IF THE TRANSACTION IS DENIED\n",
        "        print(\"DENIED\")\n",
        "        exit = True\n",
        "        break\n",
        "\n",
        "      if page_counter == page_limiter - 1:\n",
        "        #Page Counter Limiter Utilizar um limite pois as paginas sem dados começam a partir da pagina 193\n",
        "        #Logo um limite para impedir trabalho exagerado desnecessário.\n",
        "        exit = True\n",
        "        break\n",
        "\n",
        "      page_counter += 1\n",
        "\n",
        "  #PushToBD(lista_nomes, lista_plataformas, lista_datas, lista_notas_meta, lista_notas_usuarios)\n",
        "  \n",
        "  df = pd.DataFrame(data = CreatePandaStructure(lst_names, lst_plataform, lst_meta_score, lst_user_score, lst_release))\n",
        "\n",
        "  return df\n",
        "  #Imprime os dados em formato de Data Frame podendo ser organizado da maneira que for mais a calhar\n",
        "  #ao usuario."
      ]
    },
    {
      "cell_type": "code",
      "execution_count": null,
      "metadata": {
        "id": "yxXI6NBKGZXE"
      },
      "outputs": [],
      "source": [
        "__main__()"
      ]
    }
  ],
  "metadata": {
    "colab": {
      "collapsed_sections": [],
      "name": "Metacritic_Scrapper.ipynb",
      "provenance": []
    },
    "kernelspec": {
      "display_name": "Python 3 (ipykernel)",
      "language": "python",
      "name": "python3"
    },
    "language_info": {
      "codemirror_mode": {
        "name": "ipython",
        "version": 3
      },
      "file_extension": ".py",
      "mimetype": "text/x-python",
      "name": "python",
      "nbconvert_exporter": "python",
      "pygments_lexer": "ipython3",
      "version": "3.9.7"
    }
  },
  "nbformat": 4,
  "nbformat_minor": 0
}
