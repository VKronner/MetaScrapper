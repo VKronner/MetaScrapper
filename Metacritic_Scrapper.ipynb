{
  "cells": [
    {
      "cell_type": "code",
      "execution_count": null,
      "metadata": {
        "id": "RDyKPx5p0zkL"
      },
      "outputs": [],
      "source": [
        "### PROGRAMA DE SCRAPPING DE INFORMAÇÕES DO METACRITIC VOLTADO PARA JOGOS\n",
        "### DEVERA PEGAR O NOME DO JOGO, SUA NOTA MEDIA DA CRITICA E DOS USUARIOS\n",
        "### DATA DE LANÇAMENTO DO JOGO. E ORGANIZA-LOS EM ORDEM DECRESCENTE."
      ]
    },
    {
      "cell_type": "code",
      "execution_count": null,
      "metadata": {
        "id": "pFcHgUQk1NlM"
      },
      "outputs": [],
      "source": [
        "### CRIANDO POR: VICTOR KRONNER\n",
        "### DATA DE CRIAÇÃO: 04/03/2022"
      ]
    },
    {
      "cell_type": "code",
      "execution_count": null,
      "metadata": {
        "id": "Eg86pR5014gd"
      },
      "outputs": [],
      "source": [
        "### URL: https://www.metacritic.com/browse/games/score/metascore/all/all/filtered"
      ]
    },
    {
      "cell_type": "code",
      "execution_count": 47,
      "metadata": {
        "id": "cF3dFD2c1_pC"
      },
      "outputs": [],
      "source": [
        "import re\n",
        "import requests\n",
        "import pandas as pd\n",
        "import firebase_admin\n",
        "#from firebase_admin import db\n",
        "#from firebase_admin import credentials\n",
        "from bs4 import BeautifulSoup"
      ]
    },
    {
      "cell_type": "code",
      "execution_count": 48,
      "metadata": {
        "id": "bm6YCK4kPrH5"
      },
      "outputs": [],
      "source": [
        "page_counter = 0\n",
        "\n",
        "URL = \"https://www.metacritic.com/browse/games/score/metascore/all/all/filtered/?page=\"\n",
        "\n",
        "df = pd.DataFrame\n",
        "\n",
        "my_data = {}\n",
        "\n",
        "thisHeaders = {'User-Agent': 'Chrome/39.0.2171.95'}\n",
        "\n",
        "lst_names = []\n",
        "lst_plataform = []\n",
        "lst_release = []\n",
        "lst_meta_score = []\n",
        "lst_user_score = []\n",
        "\n",
        "plataform = []\n",
        "games = []\n",
        "releases = []\n",
        "meta_scores = []\n",
        "user_scores = []"
      ]
    },
    {
      "cell_type": "code",
      "execution_count": 49,
      "metadata": {
        "id": "StK8khbptmvt",
        "outputId": "3217a4ae-eca8-412a-f3f2-648ea7b8d436",
        "colab": {
          "base_uri": "https://localhost:8080/",
          "height": 53
        }
      },
      "outputs": [
        {
          "output_type": "execute_result",
          "data": {
            "text/plain": [
              "\"\\ncred = credentials.Certificate('firebaseToken.json')\\n\\nfirebase_admin.initialize_app(cred,{\\n    'databaseURL':'https://scrappermetacritic-default-rtdb.firebaseio.com/'\\n})\\n\""
            ],
            "application/vnd.google.colaboratory.intrinsic+json": {
              "type": "string"
            }
          },
          "metadata": {},
          "execution_count": 49
        }
      ],
      "source": [
        "\"\"\"\n",
        "cred = credentials.Certificate('firebaseToken.json')\n",
        "\n",
        "firebase_admin.initialize_app(cred,{\n",
        "    'databaseURL':'https://scrappermetacritic-default-rtdb.firebaseio.com/'\n",
        "})\n",
        "\"\"\""
      ]
    },
    {
      "cell_type": "code",
      "execution_count": 50,
      "metadata": {
        "id": "LO5y2TJ-BHJu"
      },
      "outputs": [],
      "source": [
        "def URL_Request(myURL, MyPage_counter):\n",
        "  myFinalURL = \"{0}{1}\".format(URL,MyPage_counter)  \n",
        "  return myFinalURL"
      ]
    },
    {
      "cell_type": "code",
      "execution_count": 51,
      "metadata": {
        "id": "5koyV4ROHqF1"
      },
      "outputs": [],
      "source": [
        "def Get_Game_Names(soup):\n",
        "  for table in soup.find_all(\"table\"):\n",
        "    for game in table.find_all(\"h3\"):\n",
        "      games.append(game.text)\n",
        "  return games"
      ]
    },
    {
      "cell_type": "code",
      "execution_count": 52,
      "metadata": {
        "id": "WwYXTOZ_PnMS"
      },
      "outputs": [],
      "source": [
        "def Get_Plataform_Game(soup):\n",
        "  for table in soup.find_all(\"td\"):\n",
        "    for info_data in table.find_all(\"div\", {\"class\": \"clamp-details\"}):\n",
        "      for data in info_data.find_all(\"span\", {\"class\": \"data\"}):\n",
        "        aux = data.text\n",
        "        aux = re.sub(r\"\\s+\",\"\",aux)\n",
        "        plataform.append(aux)\n",
        "  return plataform"
      ]
    },
    {
      "cell_type": "code",
      "execution_count": 53,
      "metadata": {
        "id": "FRyevNr3LUhe"
      },
      "outputs": [],
      "source": [
        "def Get_Meta_Score(soup):\n",
        "\n",
        "  for table in soup.find_all(\"table\"):\n",
        "    for nota_info in table.find_all(\"div\", {\"class\": \"browse-score-clamp\"}):\n",
        "      for nota_meta in nota_info.find_all(\"div\", {\"metascore_w large game positive\", \"metascore_w large game mixed\", \"metascore_w large game negative\", \"metascore_w large game tbd\"}):\n",
        "          meta_scores.append(nota_meta.text)\n",
        "  return meta_scores"
      ]
    },
    {
      "cell_type": "code",
      "execution_count": 54,
      "metadata": {
        "id": "2K-hWWDaJn_8"
      },
      "outputs": [],
      "source": [
        "def Get_User_Score(soup):\n",
        "\n",
        "  for table in soup.find_all(\"table\"):\n",
        "    for nota_info in table.find_all(\"div\", {\"class\": \"browse-score-clamp\"}):\n",
        "      for nota_user in nota_info.find_all(\"div\", {\"metascore_w user large game positive\", \"metascore_w user large game mixed\", \"metascore_w user large game negative\", \"metascore_w user large game tbd\"}):\n",
        "          user_scores.append(nota_user.text)\n",
        "  return user_scores"
      ]
    },
    {
      "cell_type": "code",
      "execution_count": 55,
      "metadata": {
        "id": "k4SDSMsjTDIG"
      },
      "outputs": [],
      "source": [
        "def Get_Data_From_Game(soup):\n",
        "  for table in soup.find_all(\"td\"):\n",
        "    for info_data in table.find_all(\"div\", {\"class\": \"clamp-details\"}):\n",
        "      for data in info_data.find_all(\"span\", {\"class\": \"\"}):\n",
        "        releases.append(re.split(\"\\n\", data.text))\n",
        "  return releases"
      ]
    },
    {
      "cell_type": "code",
      "execution_count": 56,
      "metadata": {
        "id": "jW6MoAoM15EM"
      },
      "outputs": [],
      "source": [
        "def Start_Scrapping(myURL, myHeaders):\n",
        "  conteudo_html = requests.get(myURL, headers = myHeaders).text\n",
        "\n",
        "  soup = BeautifulSoup(conteudo_html, \"lxml\")\n",
        "\n",
        "  print(soup.title.text)\n",
        "\n",
        "  global lst_names\n",
        "  global lst_plataform\n",
        "  global lst_meta_score\n",
        "  global lst_user_score\n",
        "  global lst_release\n",
        "\n",
        "  lst_names = Get_Game_Names(soup)\n",
        "  lst_plataform = Get_Plataform_Game(soup)\n",
        "  lst_meta_score = Get_User_Score(soup)\n",
        "  lst_user_score = Get_Meta_Score(soup)\n",
        "  lst_release = Get_Data_From_Game(soup)\n",
        "  return"
      ]
    },
    {
      "cell_type": "code",
      "execution_count": 57,
      "metadata": {
        "id": "N58RfXye9Isq",
        "colab": {
          "base_uri": "https://localhost:8080/",
          "height": 70
        },
        "outputId": "5101a895-56d2-4fb7-c842-028a4aed8a5e"
      },
      "outputs": [
        {
          "output_type": "execute_result",
          "data": {
            "text/plain": [
              "\"\\ndef CreatePandaStructure(myGameName, myGamePlataform, myMetaScore, myUserScore, myGameData):\\n  \\n  data = {\\n          'Name': myGameName,\\n          'Plataform': myGamePlataform,\\n          'Meta Score': myMetaScore,\\n          'User Score': myUserScore,\\n          'Release': myGameData\\n          }\\n\\n  return data\\n\""
            ],
            "application/vnd.google.colaboratory.intrinsic+json": {
              "type": "string"
            }
          },
          "metadata": {},
          "execution_count": 57
        }
      ],
      "source": [
        "\"\"\"\n",
        "def CreatePandaStructure(myGameName, myGamePlataform, myMetaScore, myUserScore, myGameData):\n",
        "  \n",
        "  data = {\n",
        "          'Name': myGameName,\n",
        "          'Plataform': myGamePlataform,\n",
        "          'Meta Score': myMetaScore,\n",
        "          'User Score': myUserScore,\n",
        "          'Release': myGameData\n",
        "          }\n",
        "\n",
        "  return data\n",
        "\"\"\""
      ]
    },
    {
      "cell_type": "code",
      "execution_count": 58,
      "metadata": {
        "id": "QcQptMME2cBA",
        "colab": {
          "base_uri": "https://localhost:8080/",
          "height": 105
        },
        "outputId": "2b7c5e3c-7645-42ff-d548-280a92087f88"
      },
      "outputs": [
        {
          "output_type": "execute_result",
          "data": {
            "text/plain": [
              "'\\ndef PushToBD(nomes, plataforrmas, datas, notasMeta, notasUser):\\n    \\n    ref = db.reference(\\'/Jogos/\\')\\n    for each in range(len(nomes)):\\n        eachGame = \"game{0}\".format(each)        \\n        ref.push({\\n          \\'Game_{0}\\'.format(each + 1): {\\n              \\'lancamento\\':\\'{0}\\'.format(datas[each]),\\n              \\'nome\\':\\'{0}\\'.format(nomes[each]),\\n              \\'nota_meta\\':\\'{0}\\'.format(notasMeta[each]),\\n              \\'nota_publico\\':\\'{0}\\'.format(notasUser[each]),\\n              \\'plataforma\\':\\'{0}\\'.format(plataforrmas[each])\\n          }  \\n        })\\n    return\\n'"
            ],
            "application/vnd.google.colaboratory.intrinsic+json": {
              "type": "string"
            }
          },
          "metadata": {},
          "execution_count": 58
        }
      ],
      "source": [
        "\"\"\"\n",
        "def PushToBD(nomes, plataforrmas, datas, notasMeta, notasUser):\n",
        "    \n",
        "    ref = db.reference('/Jogos/')\n",
        "    for each in range(len(nomes)):\n",
        "        eachGame = \"game{0}\".format(each)        \n",
        "        ref.push({\n",
        "          'Game_{0}'.format(each + 1): {\n",
        "              'lancamento':'{0}'.format(datas[each]),\n",
        "              'nome':'{0}'.format(nomes[each]),\n",
        "              'nota_meta':'{0}'.format(notasMeta[each]),\n",
        "              'nota_publico':'{0}'.format(notasUser[each]),\n",
        "              'plataforma':'{0}'.format(plataforrmas[each])\n",
        "          }  \n",
        "        })\n",
        "    return\n",
        "\"\"\""
      ]
    },
    {
      "cell_type": "code",
      "execution_count": 81,
      "metadata": {
        "id": "zIc2DALg_E7N"
      },
      "outputs": [],
      "source": [
        "def __main__():\n",
        "  exit = False\n",
        "  html_content = None\n",
        "\n",
        "  global page_counter\n",
        "  global my_data\n",
        "\n",
        "  page_counter = 0\n",
        "\n",
        "  while exit != True:\n",
        "\n",
        "      html_content = requests.get(URL_Request(URL,page_counter), headers = thisHeaders)\n",
        "\n",
        "      if html_content.status_code == 200:\n",
        "        # Code 200 Significa Transação bem sucedida logo foi possivel pegar o conteudo HTML do Site\n",
        "        html_content = requests.get(URL_Request(URL,page_counter), headers = thisHeaders)\n",
        "        Start_Scrapping(URL_Request(URL,page_counter), thisHeaders)\n",
        "      else:\n",
        "        # Print \"Negado\" caso o acesso seja bloqueado pelo Site\n",
        "        print(\"Negado\")\n",
        "        exit = True\n",
        "        break\n",
        "\n",
        "      if page_counter == 1:\n",
        "        #Page Counter Limiter Utilizar um limite pois as paginas sem dados começam a partir da pagina 193\n",
        "        #Logo um limite impede trabalho exagerado sem razão.\n",
        "        exit = True\n",
        "        break\n",
        "\n",
        "      page_counter += 1\n",
        "\n",
        "  #PushToBD(lista_nomes, lista_plataformas, lista_datas, lista_notas_meta, lista_notas_usuarios)\n",
        "  \n",
        "  my_data = {\"Names\" : lst_names, \"Plataform\" : lst_plataform, \"Meta Score\" : lst_meta_score, \"User Score\" : lst_user_score, \"Release\" : lst_release}\n",
        "\n",
        "  df = pd.DataFrame(data = my_data)\n",
        "\n",
        "  df\n",
        "\n",
        "  return\n",
        "\n",
        "#TODO: DATA FRAME NOT WORKING\n",
        "\n",
        "  #Imprime os dados em formato de Data Frame podendo ser organizado da maneira que for mais a calhar\n",
        "  #ao usuario."
      ]
    },
    {
      "cell_type": "code",
      "execution_count": 82,
      "metadata": {
        "id": "yxXI6NBKGZXE",
        "colab": {
          "base_uri": "https://localhost:8080/"
        },
        "outputId": "6767433f-5d75-4437-c032-13512315a725"
      },
      "outputs": [
        {
          "output_type": "stream",
          "name": "stdout",
          "text": [
            "Best Video Games of All Time - Metacritic\n",
            "Best Video Games of All Time - Page 2 - Metacritic\n"
          ]
        }
      ],
      "source": [
        "__main__()"
      ]
    },
    {
      "cell_type": "code",
      "execution_count": 83,
      "metadata": {
        "id": "nUuiHUvntmv0",
        "colab": {
          "base_uri": "https://localhost:8080/"
        },
        "outputId": "5bbbd8fa-d8ed-43b0-95a6-1e4509d09b98"
      },
      "outputs": [
        {
          "output_type": "execute_result",
          "data": {
            "text/plain": [
              "pandas.core.frame.DataFrame"
            ]
          },
          "metadata": {},
          "execution_count": 83
        }
      ],
      "source": [
        "df"
      ]
    },
    {
      "cell_type": "code",
      "execution_count": null,
      "metadata": {
        "id": "9V8nCpU7tmv0"
      },
      "outputs": [],
      "source": [
        ""
      ]
    }
  ],
  "metadata": {
    "colab": {
      "collapsed_sections": [],
      "name": "Metacritic_Scrapper.ipynb",
      "provenance": []
    },
    "kernelspec": {
      "display_name": "Python 3 (ipykernel)",
      "language": "python",
      "name": "python3"
    },
    "language_info": {
      "codemirror_mode": {
        "name": "ipython",
        "version": 3
      },
      "file_extension": ".py",
      "mimetype": "text/x-python",
      "name": "python",
      "nbconvert_exporter": "python",
      "pygments_lexer": "ipython3",
      "version": "3.9.7"
    }
  },
  "nbformat": 4,
  "nbformat_minor": 0
}